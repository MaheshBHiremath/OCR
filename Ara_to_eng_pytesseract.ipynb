{
 "cells": [
  {
   "cell_type": "markdown",
   "metadata": {},
   "source": [
    "# Arabic to English OCR  and translation of Arabic to English of images using tesseract-ocr, pytesseract and googletrans in google colab and storing it in txt file."
   ]
  },
  {
   "cell_type": "code",
   "execution_count": null,
   "metadata": {},
   "outputs": [],
   "source": [
    "# Installing Tesseract-OCR required packages\n",
    "!sudo apt install tesseract-ocr\n",
    "!pip install pytesseract"
   ]
  },
  {
   "cell_type": "code",
   "execution_count": null,
   "metadata": {},
   "outputs": [],
   "source": [
    "import pytesseract\n",
    "import os\n",
    "try:\n",
    " from PIL import Image\n",
    "except ImportError:\n",
    " import Image\n",
    "\n",
    "# from google.colab import drive\n",
    "# drive.mount(\"/content/drive\")"
   ]
  },
  {
   "cell_type": "code",
   "execution_count": null,
   "metadata": {},
   "outputs": [],
   "source": [
    "# to upload the file to be ocr\n",
    "from google.colab import files\n",
    "uploaded = files.upload()"
   ]
  },
  {
   "cell_type": "code",
   "execution_count": null,
   "metadata": {},
   "outputs": [],
   "source": [
    "#to view the path of file installed\n",
    "!pip show tesseract-ocr"
   ]
  },
  {
   "cell_type": "code",
   "execution_count": null,
   "metadata": {},
   "outputs": [],
   "source": [
    "# to know the present working directiry\n",
    "!pwd"
   ]
  },
  {
   "cell_type": "code",
   "execution_count": null,
   "metadata": {},
   "outputs": [],
   "source": [
    "# place arabic.traindata and eng.traindata in tesseract-ocr folder\n",
    "os.chdir(\"/usr/share/tesseract-ocr/4.00/tessdata\")\n",
    "!ls"
   ]
  },
  {
   "cell_type": "code",
   "execution_count": null,
   "metadata": {},
   "outputs": [],
   "source": [
    "#OCRing the image and extracting information\n",
    "extractedInformation = pytesseract.image_to_string(Image.open('arabic.JPG'), lang='ara')\n",
    "print(extractedInformation)"
   ]
  },
  {
   "cell_type": "code",
   "execution_count": null,
   "metadata": {},
   "outputs": [],
   "source": [
    "# install google translator to translate arabic-ocr to english\n",
    "!pip install googletrans"
   ]
  },
  {
   "cell_type": "code",
   "execution_count": null,
   "metadata": {},
   "outputs": [],
   "source": [
    "from googletrans import Translator\n",
    "trans_text=translator.translate(extractedInformation)\n",
    "print(trans_text)"
   ]
  },
  {
   "cell_type": "code",
   "execution_count": null,
   "metadata": {},
   "outputs": [],
   "source": [
    "#to create the text file and write arabic-ocr into it\n",
    "with open(\"arabic_translated.txt\",'w') as writefile:\n",
    "  writefile.write(pytesseract.image_to_string(Image.open('arabic.JPG'), lang='ara'))"
   ]
  },
  {
   "cell_type": "code",
   "execution_count": null,
   "metadata": {},
   "outputs": [],
   "source": [
    "#to edit the created file and append into it (it appends arabic to english conversion)\n",
    "with open(\"arabic_translated.txt\",'a') as writefile:\n",
    "  writefile.write(pytesseract.image_to_string(Image.open('arabic.JPG'), lang='eng'))"
   ]
  },
  {
   "cell_type": "code",
   "execution_count": null,
   "metadata": {},
   "outputs": [],
   "source": [
    "#to edit the created file and append into it (it appends arabic to english translated text)\n",
    "with open(\"arabic_translated.txt\",'a') as writefile:\n",
    "  writefile.write(trans_text)"
   ]
  }
 ],
 "metadata": {
  "kernelspec": {
   "display_name": "Python 3",
   "language": "python",
   "name": "python3"
  },
  "language_info": {
   "codemirror_mode": {
    "name": "ipython",
    "version": 3
   },
   "file_extension": ".py",
   "mimetype": "text/x-python",
   "name": "python",
   "nbconvert_exporter": "python",
   "pygments_lexer": "ipython3",
   "version": "3.8.5"
  }
 },
 "nbformat": 4,
 "nbformat_minor": 4
}
