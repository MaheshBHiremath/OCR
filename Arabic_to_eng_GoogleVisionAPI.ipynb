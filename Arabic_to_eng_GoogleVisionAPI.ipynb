{
 "cells": [
  {
   "cell_type": "markdown",
   "metadata": {},
   "source": [
    "# Arabic to English OCR and translation of Arabic to English of images using GoogleVisionAPI and RapidAPI in google colab and storing it in txt file."
   ]
  },
  {
   "cell_type": "code",
   "execution_count": null,
   "metadata": {},
   "outputs": [],
   "source": [
    "import cv2\n",
    "import imutils\n",
    "import json\n",
    "import numpy as np\n",
    "import os\n",
    "import pandas as pd\n",
    "import requests\n",
    "from base64 import b64encode\n",
    "from IPython.display import Image\n",
    "from pylab import rcParams"
   ]
  },
  {
   "cell_type": "code",
   "execution_count": null,
   "metadata": {},
   "outputs": [],
   "source": [
    "# defining figure size\n",
    "rcParams['figure.figsize'] = 10, 20"
   ]
  },
  {
   "cell_type": "code",
   "execution_count": null,
   "metadata": {},
   "outputs": [],
   "source": [
    "# to encode image into base64\n",
    "def makeImageData(imgpath):\n",
    "    img_req = None\n",
    "    with open(imgpath, 'rb') as f:\n",
    "        ctxt = b64encode(f.read()).decode()\n",
    "        img_req = {\n",
    "            'image': {\n",
    "                'content': ctxt\n",
    "            },\n",
    "            'features': [{\n",
    "                'type': 'DOCUMENT_TEXT_DETECTION',\n",
    "                'maxResults': 1\n",
    "            }],\n",
    "            \"imageContext\": {\"languageHints\": [\"ar-t-i0\"]}\n",
    "        }\n",
    "    return json.dumps({\"requests\": img_req}).encode()"
   ]
  },
  {
   "cell_type": "code",
   "execution_count": null,
   "metadata": {},
   "outputs": [],
   "source": [
    "# to request OCR of encoded image data\n",
    "def requestOCR(url, api_key, imgpath):\n",
    "  imgdata = makeImageData(imgpath)\n",
    "  response = requests.post(ENDPOINT_URL, \n",
    "                           data = imgdata, \n",
    "                           params = {'key': api_key}, \n",
    "                           headers = {'Content-Type': 'application/json'}\n",
    "                           )\n",
    "\n",
    "  return response"
   ]
  },
  {
   "cell_type": "code",
   "execution_count": null,
   "metadata": {},
   "outputs": [],
   "source": [
    "from google.colab import files\n",
    "uploaded = files.upload()"
   ]
  },
  {
   "cell_type": "code",
   "execution_count": null,
   "metadata": {},
   "outputs": [],
   "source": [
    "ENDPOINT_URL = 'https://vision.googleapis.com/v1/images:annotate'\n",
    "api_key='paste_googlevisionapi_key'\n",
    "img_loc = 'arabic.jpg'"
   ]
  },
  {
   "cell_type": "code",
   "execution_count": 1,
   "metadata": {},
   "outputs": [],
   "source": [
    "#Image(img_loc)"
   ]
  },
  {
   "cell_type": "code",
   "execution_count": null,
   "metadata": {},
   "outputs": [],
   "source": [
    "# requesting OCR\n",
    "result = requestOCR(ENDPOINT_URL, api_key, img_loc)"
   ]
  },
  {
   "cell_type": "code",
   "execution_count": null,
   "metadata": {},
   "outputs": [],
   "source": [
    "if result.status_code != 200 or result.json().get('error'):\n",
    "    print (\"Error\")\n",
    "else:\n",
    "    result = result.json()['responses'][0]['textAnnotations']\n",
    "    print(\"Successfull\")"
   ]
  },
  {
   "cell_type": "code",
   "execution_count": null,
   "metadata": {},
   "outputs": [],
   "source": [
    "result"
   ]
  },
  {
   "cell_type": "code",
   "execution_count": null,
   "metadata": {},
   "outputs": [],
   "source": [
    "arabic_ocr_txt=result[0][\"description\"]\n",
    "print(arabic_ocr_txt)"
   ]
  },
  {
   "cell_type": "code",
   "execution_count": null,
   "metadata": {},
   "outputs": [],
   "source": [
    "# to create the text file and write OCR into it\n",
    "with open(\"arabic_translated.txt\",'w') as writefile:\n",
    "  writefile.write((result[0][\"description\"]))"
   ]
  },
  {
   "cell_type": "code",
   "execution_count": null,
   "metadata": {},
   "outputs": [],
   "source": [
    "# Verify if the appending is successfully executed\n",
    "with open('arabic_translated.txt', 'r') as testwritefile:\n",
    "    print(testwritefile.read())"
   ]
  },
  {
   "cell_type": "code",
   "execution_count": null,
   "metadata": {},
   "outputs": [],
   "source": [
    "# Rapid APi for translation\n",
    "import requests\n",
    "\n",
    "url = \"https://translated-mymemory---translation-memory.p.rapidapi.com/api/get\"\n",
    "# here 'langpair' takes two parameters i.e. present language and language to be translated into.\n",
    "querystring = {\"q\":arabic_ocr_txt,\"langpair\":\"ar|en\"}\n",
    "\n",
    "headers = {\n",
    "     'x-rapidapi-key': \"paste_rapidapi_key\",\n",
    "     'x-rapidapi-host': \"paste_host_name\"\n",
    "     }\n",
    "response = requests.request(\"GET\", url, headers=headers,params=querystring)\n",
    "\n",
    "print(response.text)"
   ]
  },
  {
   "cell_type": "code",
   "execution_count": null,
   "metadata": {},
   "outputs": [],
   "source": [
    "import re\n",
    "x=re.findall('translatedText.*?:[a-zA-Z0-9]',response.text)\n",
    "#print(x)\n",
    "translated_t=x[0][0:-10].split(\";\")\n",
    "print(translated_t)"
   ]
  },
  {
   "cell_type": "code",
   "execution_count": null,
   "metadata": {},
   "outputs": [],
   "source": [
    "for i in range(len(translated_t)):\n",
    "    print(translated_t[i])"
   ]
  },
  {
   "cell_type": "code",
   "execution_count": null,
   "metadata": {},
   "outputs": [],
   "source": [
    "# to edit the created file and append the arabic-to-english translated text\n",
    "with open(\"arabic_translated.txt\",'a') as writefile:\n",
    "  for i in translated_t:\n",
    "    writefile.write(i+'\\n')"
   ]
  },
  {
   "cell_type": "code",
   "execution_count": null,
   "metadata": {},
   "outputs": [],
   "source": [
    "# to verify if the appending is successfully executed\n",
    "with open('arabic_translated.txt', 'r') as testwritefile:\n",
    "    print(testwritefile.read())"
   ]
  }
 ],
 "metadata": {
  "kernelspec": {
   "display_name": "Python 3",
   "language": "python",
   "name": "python3"
  },
  "language_info": {
   "codemirror_mode": {
    "name": "ipython",
    "version": 3
   },
   "file_extension": ".py",
   "mimetype": "text/x-python",
   "name": "python",
   "nbconvert_exporter": "python",
   "pygments_lexer": "ipython3",
   "version": "3.8.5"
  }
 },
 "nbformat": 4,
 "nbformat_minor": 4
}
